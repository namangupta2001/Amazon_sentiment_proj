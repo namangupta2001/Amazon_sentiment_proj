{
 "cells": [
  {
   "cell_type": "code",
   "execution_count": 18,
   "id": "c6f54fa5-1241-4ac1-91e9-872bf2bc8f31",
   "metadata": {},
   "outputs": [],
   "source": [
    "import pandas as pd\n",
    "from sklearn.feature_extraction.text import TfidfVectorizer\n",
    "from sklearn.linear_model import LogisticRegression\n",
    "from joblib import dump\n"
   ]
  },
  {
   "cell_type": "code",
   "execution_count": 19,
   "id": "aa86b953-c58f-489b-a569-b11599a5c44e",
   "metadata": {},
   "outputs": [
    {
     "name": "stderr",
     "output_type": "stream",
     "text": [
      "[nltk_data] Downloading package punkt to\n",
      "[nltk_data]     C:\\Users\\NAMAN\\AppData\\Roaming\\nltk_data...\n",
      "[nltk_data]   Package punkt is already up-to-date!\n",
      "[nltk_data] Downloading package stopwords to\n",
      "[nltk_data]     C:\\Users\\NAMAN\\AppData\\Roaming\\nltk_data...\n",
      "[nltk_data]   Package stopwords is already up-to-date!\n"
     ]
    }
   ],
   "source": [
    "import nltk\n",
    "nltk.download('punkt')\n",
    "nltk.download('stopwords')\n",
    "from nltk.corpus import stopwords"
   ]
  },
  {
   "cell_type": "code",
   "execution_count": 20,
   "id": "60bd699a-a04a-4f92-8144-196039f9d22c",
   "metadata": {},
   "outputs": [],
   "source": [
    "data = pd.read_csv(\"dataset/AmazonReview.csv\")"
   ]
  },
  {
   "cell_type": "code",
   "execution_count": 21,
   "id": "b0be7f9c-fe36-43fa-add4-b5c9621cfa8e",
   "metadata": {},
   "outputs": [
    {
     "name": "stdout",
     "output_type": "stream",
     "text": [
      "<class 'pandas.core.frame.DataFrame'>\n",
      "RangeIndex: 25000 entries, 0 to 24999\n",
      "Data columns (total 2 columns):\n",
      " #   Column     Non-Null Count  Dtype \n",
      "---  ------     --------------  ----- \n",
      " 0   Review     24999 non-null  object\n",
      " 1   Sentiment  25000 non-null  int64 \n",
      "dtypes: int64(1), object(1)\n",
      "memory usage: 390.8+ KB\n"
     ]
    }
   ],
   "source": [
    "data.info()"
   ]
  },
  {
   "cell_type": "code",
   "execution_count": 22,
   "id": "6c193703-7c5c-4cfc-b527-94b135f8338f",
   "metadata": {},
   "outputs": [],
   "source": [
    "##to drop null values(if any)\n",
    "data.dropna(inplace=True)"
   ]
  },
  {
   "cell_type": "code",
   "execution_count": 23,
   "id": "a68f852b-9661-471d-82c9-425d6ddd7280",
   "metadata": {},
   "outputs": [],
   "source": [
    "#1,2,3->negative(i.e 0)\n",
    "data.loc[data['Sentiment']<=3,'Sentiment'] = 0\n",
    " \n",
    "#4,5->positive(i.e 1)\n",
    "data.loc[data['Sentiment']>3,'Sentiment'] = 1"
   ]
  },
  {
   "cell_type": "code",
   "execution_count": 30,
   "id": "5d6eb951-d791-4bb6-9634-1418876911b6",
   "metadata": {},
   "outputs": [],
   "source": [
    "stp_words=stopwords.words('english')\n",
    "def clean_review(review):\n",
    "  cleanreview=\" \".join(word for word in review.\n",
    "                       split() if word not in stp_words)\n",
    "  return cleanreview\n",
    " \n",
    "data['Review']=data['Review'].apply(clean_review)"
   ]
  },
  {
   "cell_type": "code",
   "execution_count": 31,
   "id": "16d56761-daa7-45c1-a891-c1c70dd556f9",
   "metadata": {},
   "outputs": [
    {
     "data": {
      "text/plain": [
       "0    15000\n",
       "1     9999\n",
       "Name: Sentiment, dtype: int64"
      ]
     },
     "execution_count": 31,
     "metadata": {},
     "output_type": "execute_result"
    }
   ],
   "source": [
    "data['Sentiment'].value_counts()"
   ]
  },
  {
   "cell_type": "code",
   "execution_count": 32,
   "id": "90d12569-6cf6-4b49-a4ba-caafdddd6ddb",
   "metadata": {},
   "outputs": [
    {
     "name": "stdout",
     "output_type": "stream",
     "text": [
      "[0. 0. 0. ... 0. 0. 0.]\n"
     ]
    }
   ],
   "source": [
    "vectorizer = TfidfVectorizer(max_features=2500)\n",
    "X = vectorizer.fit_transform(data[\"Review\"]).toarray()\n",
    "print(X[0])\n",
    "y = data[\"Sentiment\"]"
   ]
  },
  {
   "cell_type": "code",
   "execution_count": 33,
   "id": "550c4059-1287-4036-84f7-f35a10095515",
   "metadata": {},
   "outputs": [],
   "source": [
    "from sklearn.model_selection import train_test_split\n",
    "x_train ,x_test,y_train,y_test=train_test_split(X,data['Sentiment'],\n",
    "                                                test_size=0.25 ,\n",
    "                                                random_state=42)"
   ]
  },
  {
   "cell_type": "code",
   "execution_count": 37,
   "id": "a7cb6a90-3754-425d-9a8f-250a76da0093",
   "metadata": {},
   "outputs": [
    {
     "name": "stdout",
     "output_type": "stream",
     "text": [
      "0\n"
     ]
    }
   ],
   "source": [
    "from sklearn.metrics import accuracy_score\n",
    "model=LogisticRegression()\n",
    " \n",
    "#Model fitting\n",
    "model.fit(x_train,y_train)\n",
    "\n",
    "\n",
    "def predict_sentiment(review_text):\n",
    "    review_text = review_text.lower().replace('[^\\w\\s]', '').replace('\\d+', '') # Preprocess the input text\n",
    "    X_input = vectorizer.transform([review_text]) # Vectorize the input text\n",
    "    pred = model.predict(X_input)[0] # Predict the sentiment\n",
    "    return pred\n",
    "#testing the model\n",
    "review_text=\"this is good product\"\n",
    "sentiment=predict_sentiment(review_text)\n",
    "# pred=model.predict(test2)\n",
    "print(sentiment) \n",
    "#model accuracy\n",
    "# print(accuracy_score(y_test,sentiment))"
   ]
  },
  {
   "cell_type": "code",
   "execution_count": 38,
   "id": "05c5d008-b8d7-4ec5-81bb-96360d1e8a4d",
   "metadata": {},
   "outputs": [
    {
     "data": {
      "text/plain": [
       "['vectorizer.joblib']"
      ]
     },
     "execution_count": 38,
     "metadata": {},
     "output_type": "execute_result"
    }
   ],
   "source": [
    "dump(model, \"model.joblib\")\n",
    "dump(vectorizer, \"vectorizer.joblib\")"
   ]
  },
  {
   "cell_type": "code",
   "execution_count": null,
   "id": "d1487b17-49c0-44c3-9cd2-c24280275da9",
   "metadata": {},
   "outputs": [],
   "source": []
  }
 ],
 "metadata": {
  "kernelspec": {
   "display_name": "Python 3 (ipykernel)",
   "language": "python",
   "name": "python3"
  },
  "language_info": {
   "codemirror_mode": {
    "name": "ipython",
    "version": 3
   },
   "file_extension": ".py",
   "mimetype": "text/x-python",
   "name": "python",
   "nbconvert_exporter": "python",
   "pygments_lexer": "ipython3",
   "version": "3.9.16"
  }
 },
 "nbformat": 4,
 "nbformat_minor": 5
}
