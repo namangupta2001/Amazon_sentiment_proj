{
 "cells": [
  {
   "cell_type": "code",
   "execution_count": 66,
   "id": "c6f54fa5-1241-4ac1-91e9-872bf2bc8f31",
   "metadata": {},
   "outputs": [],
   "source": [
    "import pandas as pd\n",
    "from sklearn.feature_extraction.text import TfidfVectorizer\n",
    "from sklearn.linear_model import LogisticRegression\n",
    "from joblib import dump\n",
    "from sklearn.metrics import accuracy_score,confusion_matrix"
   ]
  },
  {
   "cell_type": "code",
   "execution_count": 67,
   "id": "60bd699a-a04a-4f92-8144-196039f9d22c",
   "metadata": {},
   "outputs": [],
   "source": [
    "data = pd.read_csv(\"dataset/AmazonReview.csv\")"
   ]
  },
  {
   "cell_type": "code",
   "execution_count": 68,
   "id": "b0be7f9c-fe36-43fa-add4-b5c9621cfa8e",
   "metadata": {},
   "outputs": [
    {
     "name": "stdout",
     "output_type": "stream",
     "text": [
      "<class 'pandas.core.frame.DataFrame'>\n",
      "RangeIndex: 25000 entries, 0 to 24999\n",
      "Data columns (total 2 columns):\n",
      " #   Column     Non-Null Count  Dtype \n",
      "---  ------     --------------  ----- \n",
      " 0   Review     24999 non-null  object\n",
      " 1   Sentiment  25000 non-null  int64 \n",
      "dtypes: int64(1), object(1)\n",
      "memory usage: 390.8+ KB\n"
     ]
    }
   ],
   "source": [
    "data.info()"
   ]
  },
  {
   "cell_type": "code",
   "execution_count": 69,
   "id": "6c193703-7c5c-4cfc-b527-94b135f8338f",
   "metadata": {},
   "outputs": [],
   "source": [
    "##to drop null values(if any)\n",
    "data.dropna(inplace=True)"
   ]
  },
  {
   "cell_type": "code",
   "execution_count": 70,
   "id": "a68f852b-9661-471d-82c9-425d6ddd7280",
   "metadata": {},
   "outputs": [],
   "source": [
    "#1,2,3->negative(i.e 0)\n",
    "data.loc[data['Sentiment']<=3,'Sentiment'] = 0\n",
    " \n",
    "#4,5->positive(i.e 1)\n",
    "data.loc[data['Sentiment']>3,'Sentiment'] = 1"
   ]
  },
  {
   "cell_type": "code",
   "execution_count": 71,
   "id": "5d6eb951-d791-4bb6-9634-1418876911b6",
   "metadata": {},
   "outputs": [
    {
     "name": "stderr",
     "output_type": "stream",
     "text": [
      "C:\\Users\\NAMAN\\AppData\\Local\\Temp\\ipykernel_22400\\1391706224.py:3: FutureWarning: The default value of regex will change from True to False in a future version.\n",
      "  data[\"Review\"] = data[\"Review\"].str.replace('[^\\w\\s]', '')  # Remove punctuation\n",
      "C:\\Users\\NAMAN\\AppData\\Local\\Temp\\ipykernel_22400\\1391706224.py:4: FutureWarning: The default value of regex will change from True to False in a future version.\n",
      "  data[\"Review\"] = data[\"Review\"].str.replace('\\d+', '')  # Remove digits\n"
     ]
    }
   ],
   "source": [
    "# Preprocessing the text data\n",
    "data[\"Review\"] = data[\"Review\"].str.lower()  # Convert to lowercase\n",
    "data[\"Review\"] = data[\"Review\"].str.replace('[^\\w\\s]', '')  # Remove punctuation\n",
    "data[\"Review\"] = data[\"Review\"].str.replace('\\d+', '')  # Remove digits"
   ]
  },
  {
   "cell_type": "code",
   "execution_count": 72,
   "id": "16d56761-daa7-45c1-a891-c1c70dd556f9",
   "metadata": {},
   "outputs": [
    {
     "data": {
      "text/plain": [
       "0    15000\n",
       "1     9999\n",
       "Name: Sentiment, dtype: int64"
      ]
     },
     "execution_count": 72,
     "metadata": {},
     "output_type": "execute_result"
    }
   ],
   "source": [
    "data['Sentiment'].value_counts()"
   ]
  },
  {
   "cell_type": "code",
   "execution_count": 73,
   "id": "90d12569-6cf6-4b49-a4ba-caafdddd6ddb",
   "metadata": {},
   "outputs": [
    {
     "name": "stdout",
     "output_type": "stream",
     "text": [
      "[0. 0. 0. ... 0. 0. 0.]\n"
     ]
    }
   ],
   "source": [
    "vectorizer = TfidfVectorizer(max_features=2500)\n",
    "X = vectorizer.fit_transform(data[\"Review\"]).toarray()\n",
    "print(X[0])\n",
    "y = data[\"Sentiment\"]"
   ]
  },
  {
   "cell_type": "code",
   "execution_count": 74,
   "id": "550c4059-1287-4036-84f7-f35a10095515",
   "metadata": {},
   "outputs": [],
   "source": [
    "from sklearn.model_selection import train_test_split\n",
    "x_train ,x_test,y_train,y_test=train_test_split(X,data['Sentiment'],\n",
    "                                                test_size=0.25 ,\n",
    "                                                random_state=42)"
   ]
  },
  {
   "cell_type": "code",
   "execution_count": 75,
   "id": "1334924c-ce7b-45de-8959-24046f00c7c0",
   "metadata": {},
   "outputs": [
    {
     "name": "stdout",
     "output_type": "stream",
     "text": [
      "Accuracy: 0.79184\n"
     ]
    }
   ],
   "source": [
    "### Using Naive bayes \n",
    "from sklearn.naive_bayes import MultinomialNB\n",
    "model = MultinomialNB()\n",
    "model.fit(x_train, y_train)\n",
    "\n",
    "# Predict sentiment for the test set\n",
    "y_pred = model.predict(x_test)\n",
    "\n",
    "# Evaluate the model\n",
    "acc = accuracy_score(y_test, y_pred)\n",
    "# conf_matrix = confusion_matrix(y_test, y_pred)\n",
    "\n",
    "print(f\"Accuracy: {acc}\")\n",
    "# print(f\"Confusion matrix: \\n{conf_matrix}\")"
   ]
  },
  {
   "cell_type": "code",
   "execution_count": 76,
   "id": "ce994ba9-743c-4736-9829-5cfe140a91ba",
   "metadata": {},
   "outputs": [
    {
     "name": "stdout",
     "output_type": "stream",
     "text": [
      "Accuracy: 0.42448\n"
     ]
    }
   ],
   "source": [
    "## Using KNN Classifier\n",
    "from sklearn.neighbors import KNeighborsClassifier\n",
    "model = KNeighborsClassifier(n_neighbors=5)\n",
    "\n",
    "# Train the model\n",
    "model.fit(x_train, y_train)\n",
    "\n",
    "# Predict sentiment for the test set\n",
    "y_pred = model.predict(x_test)\n",
    "\n",
    "# Evaluate the model\n",
    "acc = accuracy_score(y_test, y_pred)\n",
    "# conf_matrix = confusion_matrix(y_test, y_pred)\n",
    "\n",
    "print(f\"Accuracy: {acc}\")"
   ]
  },
  {
   "cell_type": "code",
   "execution_count": 77,
   "id": "4730e805-f0c7-4948-8e81-6e1b7e58bfb6",
   "metadata": {},
   "outputs": [
    {
     "name": "stdout",
     "output_type": "stream",
     "text": [
      "Accuracy: 0.8104\n"
     ]
    }
   ],
   "source": [
    "## Using Gradient Boosting Machines(GBMs)\n",
    "from xgboost import XGBClassifier\n",
    "model = XGBClassifier()\n",
    "\n",
    "# Train the model\n",
    "model.fit(x_train, y_train)\n",
    "\n",
    "# Predict sentiment for the test set\n",
    "y_pred = model.predict(x_test)\n",
    "\n",
    "# Evaluate the model\n",
    "acc = accuracy_score(y_test, y_pred)\n",
    "# conf_matrix = confusion_matrix(y_test, y_pred)\n",
    "\n",
    "print(f\"Accuracy: {acc}\")"
   ]
  },
  {
   "cell_type": "code",
   "execution_count": 78,
   "id": "38e03c91-7677-4dcd-b84a-6e20c10ba1b6",
   "metadata": {},
   "outputs": [
    {
     "name": "stdout",
     "output_type": "stream",
     "text": [
      "0.8312\n"
     ]
    }
   ],
   "source": [
    "### Using Logistic Regression\n",
    "\n",
    "from sklearn.linear_model import LogisticRegression\n",
    "\n",
    "model2=LogisticRegression()\n",
    " \n",
    "#Model fitting\n",
    "model2.fit(x_train,y_train)\n",
    " \n",
    "#testing the model\n",
    "pred=model2.predict(x_test)\n",
    " \n",
    "#model accuracy\n",
    "print(accuracy_score(y_test,pred))"
   ]
  },
  {
   "cell_type": "code",
   "execution_count": 79,
   "id": "a7cb6a90-3754-425d-9a8f-250a76da0093",
   "metadata": {},
   "outputs": [
    {
     "name": "stdout",
     "output_type": "stream",
     "text": [
      "1\n"
     ]
    }
   ],
   "source": [
    "\n",
    "def predict_sentiment(review_text):\n",
    "    review_text = review_text.lower().replace('[^\\w\\s]', '').replace('\\d+', '') # Preprocess the input text\n",
    "    X_input = vectorizer.transform([review_text]) # Vectorize the input text\n",
    "    pred = model2.predict(X_input)[0] # Predict the sentiment\n",
    "    return pred\n",
    "#testing the model\n",
    "review_text=\"excellent product\"\n",
    "sentiment=predict_sentiment(review_text)\n",
    "\n",
    "print(sentiment) \n"
   ]
  },
  {
   "cell_type": "code",
   "execution_count": 80,
   "id": "05c5d008-b8d7-4ec5-81bb-96360d1e8a4d",
   "metadata": {},
   "outputs": [
    {
     "data": {
      "text/plain": [
       "['vectorizer.joblib']"
      ]
     },
     "execution_count": 80,
     "metadata": {},
     "output_type": "execute_result"
    }
   ],
   "source": [
    "dump(model, \"model.joblib\")\n",
    "dump(vectorizer, \"vectorizer.joblib\")"
   ]
  },
  {
   "cell_type": "code",
   "execution_count": null,
   "id": "d1487b17-49c0-44c3-9cd2-c24280275da9",
   "metadata": {},
   "outputs": [],
   "source": []
  }
 ],
 "metadata": {
  "kernelspec": {
   "display_name": "Python 3 (ipykernel)",
   "language": "python",
   "name": "python3"
  },
  "language_info": {
   "codemirror_mode": {
    "name": "ipython",
    "version": 3
   },
   "file_extension": ".py",
   "mimetype": "text/x-python",
   "name": "python",
   "nbconvert_exporter": "python",
   "pygments_lexer": "ipython3",
   "version": "3.9.16"
  }
 },
 "nbformat": 4,
 "nbformat_minor": 5
}
